{
 "cells": [
  {
   "cell_type": "code",
   "execution_count": 2,
   "metadata": {
    "collapsed": true,
    "scrolled": true
   },
   "outputs": [],
   "source": [
    "import os, re\n",
    "#This is the OS library and lets you 'talk' to your operating system"
   ]
  },
  {
   "cell_type": "code",
   "execution_count": 6,
   "metadata": {
    "collapsed": true
   },
   "outputs": [],
   "source": [
    "\n",
    "\n",
    "qan = \"قناة\"\n",
    "bag = \"بغداد\"\n",
    "mad = \"مدينة السلام\"\n",
    "#allbag = (bag|mad)\n",
    "#need to figure out - combining strings with variables\n",
    "\n",
    "\n",
    "\n",
    "for path, dirs, files in os.walk(\"0250AH-0550AH\"):\n",
    "    for file in files:\n",
    "        filepath = (os.path.join(path,file))\n",
    "        \n",
    "        if filepath[-4:] == \"ara1\":\n",
    "            with open(filepath, \"r\", encoding = 'utf8') as f:\n",
    "                text = f.read()\n",
    "                matches = re.finditer(\"سبي?ل.{0,500}صدق\", text)\n",
    "\n",
    "                # save the matches to a list (the iterator object doesn't let you move\n",
    "                # around like we need to)\n",
    "                allmatches = []\n",
    "                for match in matches:\n",
    "                    allmatches.append(match)\n",
    "\n",
    "                if not os.path.isdir(\"results\"):\n",
    "                    os.mkdir(\"results\")\n",
    "\n",
    "                # create a counter outside the loop\n",
    "                i = 0\n",
    "                while i < len(allmatches):\n",
    "                        match = allmatches[i]\n",
    "                        if len(text) - match.start() > 2000:\n",
    "                            matchend = match.start()+2000\n",
    "                            \n",
    "                            # check the next results and see if it is inside the current string:\n",
    "                            nextiteration = i + 1\n",
    "                            try:\n",
    "                                while allmatches[nextiteration].start() < matchend:\n",
    "                                   \n",
    "                                    matchend = allmatches[nextiteration].start() + 2000\n",
    "                                    \n",
    "                                    nextiteration += 1\n",
    "                            except:\n",
    "                                pass\n",
    "                            # save once they don't match anymore\n",
    "                            savestring = text[match.start()-2000:matchend]\n",
    "                            # print(matchend-match.start(), i)\n",
    "                            i = nextiteration + 1\n",
    "                        else:\n",
    "                            saverstring = text [match.start()-2000:]\n",
    "                            i +=1\n",
    "                        wf = open(\"results/\"+file+\"_\"+str(i)+\".txt\", \"w\", encoding='utf8')\n",
    "                        wf.write(text[match.start()-2000:match.start()+2000])\n",
    "                        wf.close()"
   ]
  },
  {
   "cell_type": "code",
   "execution_count": null,
   "metadata": {
    "collapsed": true
   },
   "outputs": [],
   "source": []
  }
 ],
 "metadata": {
  "kernelspec": {
   "display_name": "Python 3",
   "language": "python",
   "name": "python3"
  },
  "language_info": {
   "codemirror_mode": {
    "name": "ipython",
    "version": 3
   },
   "file_extension": ".py",
   "mimetype": "text/x-python",
   "name": "python",
   "nbconvert_exporter": "python",
   "pygments_lexer": "ipython3",
   "version": "3.6.3"
  }
 },
 "nbformat": 4,
 "nbformat_minor": 2
}
